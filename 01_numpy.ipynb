{
  "nbformat": 4,
  "nbformat_minor": 0,
  "metadata": {
    "colab": {
      "provenance": [],
      "authorship_tag": "ABX9TyPmNZQRglu5DT2U4vtHxasJ",
      "include_colab_link": true
    },
    "kernelspec": {
      "name": "python3",
      "display_name": "Python 3"
    },
    "language_info": {
      "name": "python"
    }
  },
  "cells": [
    {
      "cell_type": "markdown",
      "metadata": {
        "id": "view-in-github",
        "colab_type": "text"
      },
      "source": [
        "<a href=\"https://colab.research.google.com/github/yeshtashri/numpy_python/blob/main/01_numpy.ipynb\" target=\"_parent\"><img src=\"https://colab.research.google.com/assets/colab-badge.svg\" alt=\"Open In Colab\"/></a>"
      ]
    },
    {
      "cell_type": "markdown",
      "source": [
        "## **NumPy**"
      ],
      "metadata": {
        "id": "pNtUlWfZ9JfE"
      }
    },
    {
      "cell_type": "code",
      "execution_count": 1,
      "metadata": {
        "colab": {
          "base_uri": "https://localhost:8080/"
        },
        "id": "6HU-w-RZ9D_Y",
        "outputId": "35266f60-6d6e-4a6b-f95b-6a70ff546612"
      },
      "outputs": [
        {
          "output_type": "stream",
          "name": "stdout",
          "text": [
            "[1 2 3 4]\n",
            "<class 'numpy.ndarray'>\n"
          ]
        }
      ],
      "source": [
        "import numpy as np\n",
        "x= np.array ([1,2,3,4])\n",
        "print(x)\n",
        "print(type(x))"
      ]
    },
    {
      "cell_type": "code",
      "source": [
        "import numpy as np\n",
        "x=[1,2,3,4]\n",
        "y=(1,2,3,4)\n",
        "z={1,2,3,4}\n",
        "print(x,y,z)"
      ],
      "metadata": {
        "colab": {
          "base_uri": "https://localhost:8080/"
        },
        "id": "zqkjKtdK9QA5",
        "outputId": "e49e68ae-758d-4c08-cd71-155b176e4181"
      },
      "execution_count": null,
      "outputs": [
        {
          "output_type": "stream",
          "name": "stdout",
          "text": [
            "[1, 2, 3, 4] (1, 2, 3, 4) {1, 2, 3, 4}\n"
          ]
        }
      ]
    },
    {
      "cell_type": "code",
      "source": [
        "%timeit [j**4 for j in range(1,9)]"
      ],
      "metadata": {
        "colab": {
          "base_uri": "https://localhost:8080/"
        },
        "id": "AZBTildU-YBd",
        "outputId": "a2493e1a-17a0-497c-ec36-b248a1c292e3"
      },
      "execution_count": null,
      "outputs": [
        {
          "output_type": "stream",
          "name": "stdout",
          "text": [
            "952 ns ± 256 ns per loop (mean ± std. dev. of 7 runs, 1000000 loops each)\n"
          ]
        }
      ]
    },
    {
      "cell_type": "code",
      "source": [
        "import numpy as np\n",
        "%timeit np.arange(1,9)**4"
      ],
      "metadata": {
        "colab": {
          "base_uri": "https://localhost:8080/"
        },
        "id": "wfnkAzTy-flM",
        "outputId": "7f7e933b-586d-422d-ee60-d20f6d1a35fb"
      },
      "execution_count": null,
      "outputs": [
        {
          "output_type": "stream",
          "name": "stdout",
          "text": [
            "1.7 µs ± 113 ns per loop (mean ± std. dev. of 7 runs, 100000 loops each)\n"
          ]
        }
      ]
    },
    {
      "cell_type": "code",
      "source": [
        "import numpy as np\n",
        "x=[1,2,3,4]\n",
        "y= np.array(x)\n",
        "y"
      ],
      "metadata": {
        "colab": {
          "base_uri": "https://localhost:8080/"
        },
        "id": "0hsbX6d--jsC",
        "outputId": "b1cda6a1-9e24-4123-994e-3b3c3ad0029e"
      },
      "execution_count": null,
      "outputs": [
        {
          "output_type": "execute_result",
          "data": {
            "text/plain": [
              "array([1, 2, 3, 4])"
            ]
          },
          "metadata": {},
          "execution_count": 5
        }
      ]
    },
    {
      "cell_type": "code",
      "source": [
        "l=[]\n",
        "for i in range(1,5):\n",
        "    int_l=int(input(\"enter:\"))\n",
        "    l.append(int_l)\n",
        "print(np.array(l))"
      ],
      "metadata": {
        "id": "ExqTI66P-ndl",
        "colab": {
          "base_uri": "https://localhost:8080/"
        },
        "outputId": "8ceaa473-b249-4c78-b09e-b7fb87da91b1"
      },
      "execution_count": 5,
      "outputs": [
        {
          "output_type": "stream",
          "name": "stdout",
          "text": [
            "enter:10\n",
            "enter:11\n",
            "enter:1\n",
            "enter:12\n",
            "[10 11  1 12]\n"
          ]
        }
      ]
    },
    {
      "cell_type": "code",
      "source": [
        "import numpy as np\n",
        "x= np.array ([1,2,3,4])\n",
        "print(x)\n",
        "print(type(x))\n",
        "print(x.ndim)"
      ],
      "metadata": {
        "colab": {
          "base_uri": "https://localhost:8080/"
        },
        "id": "AcCVH4RIB7sb",
        "outputId": "bd0a1acf-b0e6-4e87-d1c5-b8e069113700"
      },
      "execution_count": 7,
      "outputs": [
        {
          "output_type": "stream",
          "name": "stdout",
          "text": [
            "[1 2 3 4]\n",
            "<class 'numpy.ndarray'>\n",
            "1\n"
          ]
        }
      ]
    },
    {
      "cell_type": "code",
      "source": [
        "ar2= np.array([[1,2,3,4],[1,3,5,7]])#number of data in each array should be same\n",
        "print(ar2)\n",
        "print(ar2.ndim)"
      ],
      "metadata": {
        "colab": {
          "base_uri": "https://localhost:8080/"
        },
        "id": "-z8NKBWsDzka",
        "outputId": "f688458b-d661-44c6-a2f8-35eaffb3845a"
      },
      "execution_count": 8,
      "outputs": [
        {
          "output_type": "stream",
          "name": "stdout",
          "text": [
            "[[1 2 3 4]\n",
            " [1 3 5 7]]\n",
            "2\n"
          ]
        }
      ]
    },
    {
      "cell_type": "code",
      "source": [
        "ar3= np.array([[[1,2,3],[1,3,5],[2,4,6]]])\n",
        "print(ar3)\n",
        "print(ar3.ndim)"
      ],
      "metadata": {
        "colab": {
          "base_uri": "https://localhost:8080/"
        },
        "id": "1QLDHf_7ET4u",
        "outputId": "2293f299-5df2-4f52-cd6c-c5eeb94de9e7"
      },
      "execution_count": 10,
      "outputs": [
        {
          "output_type": "stream",
          "name": "stdout",
          "text": [
            "[[[1 2 3]\n",
            "  [1 3 5]\n",
            "  [2 4 6]]]\n",
            "3\n"
          ]
        }
      ]
    },
    {
      "cell_type": "code",
      "source": [
        "arn = np.array([1,2,3,4],ndmin=10)\n",
        "print(arn)\n",
        "print(arn.ndim)"
      ],
      "metadata": {
        "colab": {
          "base_uri": "https://localhost:8080/"
        },
        "id": "FVj3kICOEmiA",
        "outputId": "44c3da5d-56f3-4476-a9b1-92d7168f98e4"
      },
      "execution_count": 11,
      "outputs": [
        {
          "output_type": "stream",
          "name": "stdout",
          "text": [
            "[[[[[[[[[[1 2 3 4]]]]]]]]]]\n",
            "10\n"
          ]
        }
      ]
    },
    {
      "cell_type": "markdown",
      "source": [
        "#create numpy array using numpy functions\n"
      ],
      "metadata": {
        "id": "B2P6U4tAF06o"
      }
    },
    {
      "cell_type": "code",
      "source": [
        "#zeros array in numpy\n",
        "ar_zero= np.zeros(4)\n",
        "ar_zero1= np.zeros((3,4))\n",
        "print(ar_zero)\n",
        "print()#to add space between the output as you can see\n",
        "print(ar_zero1)\n"
      ],
      "metadata": {
        "colab": {
          "base_uri": "https://localhost:8080/"
        },
        "id": "nV8NDvq4EmZu",
        "outputId": "7d098c46-de1e-4b39-cf04-5eae8b0d7c0f"
      },
      "execution_count": 13,
      "outputs": [
        {
          "output_type": "stream",
          "name": "stdout",
          "text": [
            "[0. 0. 0. 0.]\n",
            "\n",
            "[[0. 0. 0. 0.]\n",
            " [0. 0. 0. 0.]\n",
            " [0. 0. 0. 0.]]\n"
          ]
        }
      ]
    },
    {
      "cell_type": "code",
      "source": [
        "#ones array in numpy\n",
        "ar_one= np.ones(4)\n",
        "ar_one1= np.ones((3,4))\n",
        "print(ar_one)\n",
        "print()#to add space between the output as you can see\n",
        "print(ar_one1)"
      ],
      "metadata": {
        "colab": {
          "base_uri": "https://localhost:8080/"
        },
        "id": "YKKwh93uGDfT",
        "outputId": "6d816a3a-58f3-4f4a-b2a9-f42e5d9b509a"
      },
      "execution_count": 14,
      "outputs": [
        {
          "output_type": "stream",
          "name": "stdout",
          "text": [
            "[1. 1. 1. 1.]\n",
            "\n",
            "[[1. 1. 1. 1.]\n",
            " [1. 1. 1. 1.]\n",
            " [1. 1. 1. 1.]]\n"
          ]
        }
      ]
    },
    {
      "cell_type": "code",
      "source": [
        "#empty array\n",
        "ar_empty= np.empty(4)\n",
        "print(ar_empty)#it will print 1's array as the most previously used memory remains and print that only."
      ],
      "metadata": {
        "colab": {
          "base_uri": "https://localhost:8080/"
        },
        "id": "GpYT3L94Go1q",
        "outputId": "65805bd3-702f-420f-e6fe-8419ace8dd89"
      },
      "execution_count": 15,
      "outputs": [
        {
          "output_type": "stream",
          "name": "stdout",
          "text": [
            "[1. 1. 1. 1.]\n"
          ]
        }
      ]
    },
    {
      "cell_type": "code",
      "source": [
        "#array with range of elements\n",
        "ar_rn= np.arange(4)\n",
        "print(ar_rn)"
      ],
      "metadata": {
        "colab": {
          "base_uri": "https://localhost:8080/"
        },
        "id": "wbLySIrmG8Iw",
        "outputId": "97c19cc0-4131-49ce-a9f9-6d84d952de37"
      },
      "execution_count": 16,
      "outputs": [
        {
          "output_type": "stream",
          "name": "stdout",
          "text": [
            "[0 1 2 3]\n"
          ]
        }
      ]
    },
    {
      "cell_type": "code",
      "source": [
        "#array diagonal filled with 1's\n",
        "ar_dia= np.eye(3)\n",
        "ar_dia1= np.eye(4,3)\n",
        "print(ar_dia)\n",
        "print()\n",
        "print(ar_dia1)"
      ],
      "metadata": {
        "colab": {
          "base_uri": "https://localhost:8080/"
        },
        "id": "c_EAyi3QHQw3",
        "outputId": "de1b4f6e-5d52-4ee9-fb5c-7b89850436a0"
      },
      "execution_count": 20,
      "outputs": [
        {
          "output_type": "stream",
          "name": "stdout",
          "text": [
            "[[1. 0. 0.]\n",
            " [0. 1. 0.]\n",
            " [0. 0. 1.]]\n",
            "\n",
            "[[1. 0. 0.]\n",
            " [0. 1. 0.]\n",
            " [0. 0. 1.]\n",
            " [0. 0. 0.]]\n"
          ]
        }
      ]
    },
    {
      "cell_type": "code",
      "source": [
        "#create an array with values that are spaced linearlyin a specified interval\n",
        "#linspace\n",
        "ar_lin=np.linspace(0,20,num=5)\n",
        "print(ar_lin)"
      ],
      "metadata": {
        "colab": {
          "base_uri": "https://localhost:8080/"
        },
        "id": "VbEIw1hpHrxj",
        "outputId": "c54e88d2-7b22-453e-f85c-712b1f3731e1"
      },
      "execution_count": 23,
      "outputs": [
        {
          "output_type": "stream",
          "name": "stdout",
          "text": [
            "[ 0.  5. 10. 15. 20.]\n"
          ]
        }
      ]
    },
    {
      "cell_type": "code",
      "source": [],
      "metadata": {
        "id": "j28tQY9kIc_D"
      },
      "execution_count": null,
      "outputs": []
    }
  ]
}