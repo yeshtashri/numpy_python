{
  "nbformat": 4,
  "nbformat_minor": 0,
  "metadata": {
    "colab": {
      "provenance": [],
      "authorship_tag": "ABX9TyM47yMll53OurM9RhpHrRa3",
      "include_colab_link": true
    },
    "kernelspec": {
      "name": "python3",
      "display_name": "Python 3"
    },
    "language_info": {
      "name": "python"
    }
  },
  "cells": [
    {
      "cell_type": "markdown",
      "metadata": {
        "id": "view-in-github",
        "colab_type": "text"
      },
      "source": [
        "<a href=\"https://colab.research.google.com/github/yeshtashri/numpy_python/blob/main/numpy.ipynb\" target=\"_parent\"><img src=\"https://colab.research.google.com/assets/colab-badge.svg\" alt=\"Open In Colab\"/></a>"
      ]
    },
    {
      "cell_type": "markdown",
      "source": [
        "## **NumPy**"
      ],
      "metadata": {
        "id": "pNtUlWfZ9JfE"
      }
    },
    {
      "cell_type": "code",
      "execution_count": 1,
      "metadata": {
        "colab": {
          "base_uri": "https://localhost:8080/"
        },
        "id": "6HU-w-RZ9D_Y",
        "outputId": "35266f60-6d6e-4a6b-f95b-6a70ff546612"
      },
      "outputs": [
        {
          "output_type": "stream",
          "name": "stdout",
          "text": [
            "[1 2 3 4]\n",
            "<class 'numpy.ndarray'>\n"
          ]
        }
      ],
      "source": [
        "import numpy as np\n",
        "x= np.array ([1,2,3,4])\n",
        "print(x)\n",
        "print(type(x))"
      ]
    },
    {
      "cell_type": "code",
      "source": [
        "import numpy as np\n",
        "x=[1,2,3,4]\n",
        "y=(1,2,3,4)\n",
        "z={1,2,3,4}\n",
        "print(x,y,z)"
      ],
      "metadata": {
        "colab": {
          "base_uri": "https://localhost:8080/"
        },
        "id": "zqkjKtdK9QA5",
        "outputId": "e49e68ae-758d-4c08-cd71-155b176e4181"
      },
      "execution_count": null,
      "outputs": [
        {
          "output_type": "stream",
          "name": "stdout",
          "text": [
            "[1, 2, 3, 4] (1, 2, 3, 4) {1, 2, 3, 4}\n"
          ]
        }
      ]
    },
    {
      "cell_type": "code",
      "source": [
        "%timeit [j**4 for j in range(1,9)]"
      ],
      "metadata": {
        "colab": {
          "base_uri": "https://localhost:8080/"
        },
        "id": "AZBTildU-YBd",
        "outputId": "a2493e1a-17a0-497c-ec36-b248a1c292e3"
      },
      "execution_count": null,
      "outputs": [
        {
          "output_type": "stream",
          "name": "stdout",
          "text": [
            "952 ns ± 256 ns per loop (mean ± std. dev. of 7 runs, 1000000 loops each)\n"
          ]
        }
      ]
    },
    {
      "cell_type": "code",
      "source": [
        "import numpy as np\n",
        "%timeit np.arange(1,9)**4"
      ],
      "metadata": {
        "colab": {
          "base_uri": "https://localhost:8080/"
        },
        "id": "wfnkAzTy-flM",
        "outputId": "7f7e933b-586d-422d-ee60-d20f6d1a35fb"
      },
      "execution_count": null,
      "outputs": [
        {
          "output_type": "stream",
          "name": "stdout",
          "text": [
            "1.7 µs ± 113 ns per loop (mean ± std. dev. of 7 runs, 100000 loops each)\n"
          ]
        }
      ]
    },
    {
      "cell_type": "code",
      "source": [
        "import numpy as np\n",
        "x=[1,2,3,4]\n",
        "y= np.array(x)\n",
        "y"
      ],
      "metadata": {
        "colab": {
          "base_uri": "https://localhost:8080/"
        },
        "id": "0hsbX6d--jsC",
        "outputId": "b1cda6a1-9e24-4123-994e-3b3c3ad0029e"
      },
      "execution_count": null,
      "outputs": [
        {
          "output_type": "execute_result",
          "data": {
            "text/plain": [
              "array([1, 2, 3, 4])"
            ]
          },
          "metadata": {},
          "execution_count": 5
        }
      ]
    },
    {
      "cell_type": "code",
      "source": [
        "l=[]\n",
        "for i in range(1,5):\n",
        "    int_l=int(input(\"enter:\"))\n",
        "    l.append(int_l)\n",
        "print(np.array(l))"
      ],
      "metadata": {
        "id": "ExqTI66P-ndl",
        "colab": {
          "base_uri": "https://localhost:8080/"
        },
        "outputId": "8ceaa473-b249-4c78-b09e-b7fb87da91b1"
      },
      "execution_count": 5,
      "outputs": [
        {
          "output_type": "stream",
          "name": "stdout",
          "text": [
            "enter:10\n",
            "enter:11\n",
            "enter:1\n",
            "enter:12\n",
            "[10 11  1 12]\n"
          ]
        }
      ]
    },
    {
      "cell_type": "code",
      "source": [
        "import numpy as np\n",
        "x= np.array ([1,2,3,4])\n",
        "print(x)\n",
        "print(type(x))\n",
        "print(x.ndim)"
      ],
      "metadata": {
        "colab": {
          "base_uri": "https://localhost:8080/"
        },
        "id": "AcCVH4RIB7sb",
        "outputId": "bd0a1acf-b0e6-4e87-d1c5-b8e069113700"
      },
      "execution_count": 7,
      "outputs": [
        {
          "output_type": "stream",
          "name": "stdout",
          "text": [
            "[1 2 3 4]\n",
            "<class 'numpy.ndarray'>\n",
            "1\n"
          ]
        }
      ]
    },
    {
      "cell_type": "code",
      "source": [
        "ar2= np.array([[1,2,3,4],[1,3,5,7]])#number of data in each array should be same\n",
        "print(ar2)\n",
        "print(ar2.ndim)"
      ],
      "metadata": {
        "colab": {
          "base_uri": "https://localhost:8080/"
        },
        "id": "-z8NKBWsDzka",
        "outputId": "f688458b-d661-44c6-a2f8-35eaffb3845a"
      },
      "execution_count": 8,
      "outputs": [
        {
          "output_type": "stream",
          "name": "stdout",
          "text": [
            "[[1 2 3 4]\n",
            " [1 3 5 7]]\n",
            "2\n"
          ]
        }
      ]
    },
    {
      "cell_type": "code",
      "source": [
        "ar3= np.array([[[1,2,3],[1,3,5],[2,4,6]]])\n",
        "print(ar3)\n",
        "print(ar3.ndim)"
      ],
      "metadata": {
        "colab": {
          "base_uri": "https://localhost:8080/"
        },
        "id": "1QLDHf_7ET4u",
        "outputId": "2293f299-5df2-4f52-cd6c-c5eeb94de9e7"
      },
      "execution_count": 10,
      "outputs": [
        {
          "output_type": "stream",
          "name": "stdout",
          "text": [
            "[[[1 2 3]\n",
            "  [1 3 5]\n",
            "  [2 4 6]]]\n",
            "3\n"
          ]
        }
      ]
    },
    {
      "cell_type": "code",
      "source": [
        "arn = np.array([1,2,3,4],ndmin=10)\n",
        "print(arn)\n",
        "print(arn.ndim)"
      ],
      "metadata": {
        "colab": {
          "base_uri": "https://localhost:8080/"
        },
        "id": "FVj3kICOEmiA",
        "outputId": "44c3da5d-56f3-4476-a9b1-92d7168f98e4"
      },
      "execution_count": 11,
      "outputs": [
        {
          "output_type": "stream",
          "name": "stdout",
          "text": [
            "[[[[[[[[[[1 2 3 4]]]]]]]]]]\n",
            "10\n"
          ]
        }
      ]
    },
    {
      "cell_type": "markdown",
      "source": [
        "#create numpy array using numpy functions\n"
      ],
      "metadata": {
        "id": "B2P6U4tAF06o"
      }
    },
    {
      "cell_type": "code",
      "source": [
        "#zeros array in numpy\n",
        "ar_zero= np.zeros(4)\n",
        "ar_zero1= np.zeros((3,4))\n",
        "print(ar_zero)\n",
        "print()#to add space between the output as you can see\n",
        "print(ar_zero1)\n"
      ],
      "metadata": {
        "colab": {
          "base_uri": "https://localhost:8080/"
        },
        "id": "nV8NDvq4EmZu",
        "outputId": "7d098c46-de1e-4b39-cf04-5eae8b0d7c0f"
      },
      "execution_count": 13,
      "outputs": [
        {
          "output_type": "stream",
          "name": "stdout",
          "text": [
            "[0. 0. 0. 0.]\n",
            "\n",
            "[[0. 0. 0. 0.]\n",
            " [0. 0. 0. 0.]\n",
            " [0. 0. 0. 0.]]\n"
          ]
        }
      ]
    },
    {
      "cell_type": "code",
      "source": [
        "#ones array in numpy\n",
        "ar_one= np.ones(4)\n",
        "ar_one1= np.ones((3,4))\n",
        "print(ar_one)\n",
        "print()#to add space between the output as you can see\n",
        "print(ar_one1)"
      ],
      "metadata": {
        "colab": {
          "base_uri": "https://localhost:8080/"
        },
        "id": "YKKwh93uGDfT",
        "outputId": "6d816a3a-58f3-4f4a-b2a9-f42e5d9b509a"
      },
      "execution_count": 14,
      "outputs": [
        {
          "output_type": "stream",
          "name": "stdout",
          "text": [
            "[1. 1. 1. 1.]\n",
            "\n",
            "[[1. 1. 1. 1.]\n",
            " [1. 1. 1. 1.]\n",
            " [1. 1. 1. 1.]]\n"
          ]
        }
      ]
    },
    {
      "cell_type": "code",
      "source": [
        "#empty array\n",
        "ar_empty= np.empty(4)\n",
        "print(ar_empty)#it will print 1's array as the most previously used memory remains and print that only."
      ],
      "metadata": {
        "colab": {
          "base_uri": "https://localhost:8080/"
        },
        "id": "GpYT3L94Go1q",
        "outputId": "65805bd3-702f-420f-e6fe-8419ace8dd89"
      },
      "execution_count": 15,
      "outputs": [
        {
          "output_type": "stream",
          "name": "stdout",
          "text": [
            "[1. 1. 1. 1.]\n"
          ]
        }
      ]
    },
    {
      "cell_type": "code",
      "source": [
        "#array with range of elements\n",
        "ar_rn= np.arange(4)\n",
        "print(ar_rn)"
      ],
      "metadata": {
        "colab": {
          "base_uri": "https://localhost:8080/"
        },
        "id": "wbLySIrmG8Iw",
        "outputId": "97c19cc0-4131-49ce-a9f9-6d84d952de37"
      },
      "execution_count": 16,
      "outputs": [
        {
          "output_type": "stream",
          "name": "stdout",
          "text": [
            "[0 1 2 3]\n"
          ]
        }
      ]
    },
    {
      "cell_type": "code",
      "source": [
        "#array diagonal filled with 1's\n",
        "ar_dia= np.eye(3)\n",
        "ar_dia1= np.eye(4,3)\n",
        "print(ar_dia)\n",
        "print()\n",
        "print(ar_dia1)"
      ],
      "metadata": {
        "colab": {
          "base_uri": "https://localhost:8080/"
        },
        "id": "c_EAyi3QHQw3",
        "outputId": "de1b4f6e-5d52-4ee9-fb5c-7b89850436a0"
      },
      "execution_count": 20,
      "outputs": [
        {
          "output_type": "stream",
          "name": "stdout",
          "text": [
            "[[1. 0. 0.]\n",
            " [0. 1. 0.]\n",
            " [0. 0. 1.]]\n",
            "\n",
            "[[1. 0. 0.]\n",
            " [0. 1. 0.]\n",
            " [0. 0. 1.]\n",
            " [0. 0. 0.]]\n"
          ]
        }
      ]
    },
    {
      "cell_type": "code",
      "source": [
        "#create an array with values that are spaced linearlyin a specified interval\n",
        "#linspace\n",
        "ar_lin=np.linspace(0,20,num=5)\n",
        "print(ar_lin)"
      ],
      "metadata": {
        "colab": {
          "base_uri": "https://localhost:8080/"
        },
        "id": "VbEIw1hpHrxj",
        "outputId": "c54e88d2-7b22-453e-f85c-712b1f3731e1"
      },
      "execution_count": 23,
      "outputs": [
        {
          "output_type": "stream",
          "name": "stdout",
          "text": [
            "[ 0.  5. 10. 15. 20.]\n"
          ]
        }
      ]
    },
    {
      "cell_type": "markdown",
      "source": [
        "## create numpy arrays with random numbers"
      ],
      "metadata": {
        "id": "0RWuz7jgRTVb"
      }
    },
    {
      "cell_type": "code",
      "source": [
        "#rand()\n",
        "import numpy as np\n",
        "x= np.random.rand(5)\n",
        "print(x)"
      ],
      "metadata": {
        "colab": {
          "base_uri": "https://localhost:8080/"
        },
        "id": "j28tQY9kIc_D",
        "outputId": "dfaccfdc-920b-480f-a0b4-b71c22916b6c"
      },
      "execution_count": 24,
      "outputs": [
        {
          "output_type": "stream",
          "name": "stdout",
          "text": [
            "[0.53290239 0.86884338 0.75722317 0.79556393 0.12532785]\n"
          ]
        }
      ]
    },
    {
      "cell_type": "code",
      "source": [
        "var1=np.random.rand(2,5)\n",
        "print(var1)"
      ],
      "metadata": {
        "colab": {
          "base_uri": "https://localhost:8080/"
        },
        "id": "gM5iEnBMSAG6",
        "outputId": "daf78a6b-4865-464c-85cf-912fe0eb81a6"
      },
      "execution_count": 25,
      "outputs": [
        {
          "output_type": "stream",
          "name": "stdout",
          "text": [
            "[[0.82212538 0.25098171 0.53958529 0.7936394  0.85829721]\n",
            " [0.55356442 0.69614789 0.53324914 0.4752303  0.55834409]]\n"
          ]
        }
      ]
    },
    {
      "cell_type": "code",
      "source": [
        "#randn()\n",
        "var2=np.random.randn(5)\n",
        "print(var2)"
      ],
      "metadata": {
        "colab": {
          "base_uri": "https://localhost:8080/"
        },
        "id": "tggPAjk8SXca",
        "outputId": "65cfea25-9b6f-4ec1-85ae-156a597badff"
      },
      "execution_count": 26,
      "outputs": [
        {
          "output_type": "stream",
          "name": "stdout",
          "text": [
            "[ 0.38331972  1.8544267  -1.9862313   0.09916194  0.60690254]\n"
          ]
        }
      ]
    },
    {
      "cell_type": "code",
      "source": [
        "#ranf()\n",
        "var3=np.random.ranf(4)\n",
        "print(var3)"
      ],
      "metadata": {
        "colab": {
          "base_uri": "https://localhost:8080/"
        },
        "id": "fR3kiw7oSxmy",
        "outputId": "7fa2822c-5cc4-4b04-e638-ba907b0a5b83"
      },
      "execution_count": 27,
      "outputs": [
        {
          "output_type": "stream",
          "name": "stdout",
          "text": [
            "[0.82528401 0.69199767 0.48973243 0.64019732]\n"
          ]
        }
      ]
    },
    {
      "cell_type": "code",
      "source": [
        "#randint()\n",
        "var4=np.random.randint(5,20,5)#(min,max,total_numbers)\n",
        "print(var4)"
      ],
      "metadata": {
        "colab": {
          "base_uri": "https://localhost:8080/"
        },
        "id": "Efn6spjsTHyR",
        "outputId": "3e6ba0d4-fd9b-464a-8dce-c523f928a17d"
      },
      "execution_count": 28,
      "outputs": [
        {
          "output_type": "stream",
          "name": "stdout",
          "text": [
            "[16  9 10 19 15]\n"
          ]
        }
      ]
    },
    {
      "cell_type": "markdown",
      "source": [
        "### data types in numpy"
      ],
      "metadata": {
        "id": "ogTmeb6HWYie"
      }
    },
    {
      "cell_type": "code",
      "source": [
        "import numpy as np\n",
        "var=np.array([1,2,3,4,5])\n",
        "print(\"data type:\",var.dtype)"
      ],
      "metadata": {
        "colab": {
          "base_uri": "https://localhost:8080/"
        },
        "id": "A1-azaaQTxm0",
        "outputId": "5d1cefe9-f3cb-418d-8b0a-e44b17555181"
      },
      "execution_count": 30,
      "outputs": [
        {
          "output_type": "stream",
          "name": "stdout",
          "text": [
            "data type: int64\n"
          ]
        }
      ]
    },
    {
      "cell_type": "code",
      "source": [
        "import numpy as np\n",
        "var=np.array([1.1,2,3,4,5])\n",
        "print(\"data type:\",var.dtype)"
      ],
      "metadata": {
        "colab": {
          "base_uri": "https://localhost:8080/"
        },
        "id": "xGp0sedcWpSA",
        "outputId": "1151b23c-4e30-41c5-ea41-9951e2706e58"
      },
      "execution_count": 32,
      "outputs": [
        {
          "output_type": "stream",
          "name": "stdout",
          "text": [
            "data type: float64\n"
          ]
        }
      ]
    },
    {
      "cell_type": "code",
      "source": [
        "import numpy as np\n",
        "var=np.array([\"a\",\"b\",\"c\"])\n",
        "print(\"data type:\",var.dtype)"
      ],
      "metadata": {
        "colab": {
          "base_uri": "https://localhost:8080/"
        },
        "id": "47LN75ILXDh4",
        "outputId": "42f036d6-c108-4d4f-f28b-0b73ba85e79d"
      },
      "execution_count": 33,
      "outputs": [
        {
          "output_type": "stream",
          "name": "stdout",
          "text": [
            "data type: <U1\n"
          ]
        }
      ]
    },
    {
      "cell_type": "code",
      "source": [
        "import numpy as np\n",
        "var=np.array([\"a\",1,2,3,4,5])\n",
        "print(\"data type:\",var.dtype)"
      ],
      "metadata": {
        "colab": {
          "base_uri": "https://localhost:8080/"
        },
        "id": "Wv0ihqWaXMNZ",
        "outputId": "9d1c64a4-d7b1-4ee4-a2b3-7d1b0f2d0048"
      },
      "execution_count": 34,
      "outputs": [
        {
          "output_type": "stream",
          "name": "stdout",
          "text": [
            "data type: <U21\n"
          ]
        }
      ]
    },
    {
      "cell_type": "code",
      "source": [
        "x=np.array([1,2,3,4],dtype=np.int8)\n",
        "print(\"data type:\",x.dtype)"
      ],
      "metadata": {
        "colab": {
          "base_uri": "https://localhost:8080/"
        },
        "id": "F0aeQh-fXrHx",
        "outputId": "1e52b7a4-062d-4945-f9d9-02b14148aad5"
      },
      "execution_count": 35,
      "outputs": [
        {
          "output_type": "stream",
          "name": "stdout",
          "text": [
            "data type: int8\n"
          ]
        }
      ]
    },
    {
      "cell_type": "code",
      "source": [
        "x=np.array([1,2,3,4],dtype= \"f\")\n",
        "print(\"data type:\",x.dtype)\n",
        "print(x)"
      ],
      "metadata": {
        "colab": {
          "base_uri": "https://localhost:8080/"
        },
        "id": "QhCgQdm_YDT4",
        "outputId": "9e788de4-e4a1-4ad3-835c-b3fb4b0fb63f"
      },
      "execution_count": 37,
      "outputs": [
        {
          "output_type": "stream",
          "name": "stdout",
          "text": [
            "data type: float32\n",
            "[1. 2. 3. 4.]\n"
          ]
        }
      ]
    },
    {
      "cell_type": "code",
      "source": [
        "x=np.array([1,2,3,4])\n",
        "new=np.float32(x)\n",
        "new_one=np.int_(new)\n",
        "print(\"data type:\",x.dtype)\n",
        "print(\"data type:\",new.dtype)\n",
        "print(x)\n",
        "print(new)\n",
        "print(new_one)"
      ],
      "metadata": {
        "colab": {
          "base_uri": "https://localhost:8080/"
        },
        "id": "VSJb0EaLYuyj",
        "outputId": "e0af1713-57d2-4141-ebe6-72f422d91c1d"
      },
      "execution_count": 41,
      "outputs": [
        {
          "output_type": "stream",
          "name": "stdout",
          "text": [
            "data type: int64\n",
            "data type: float32\n",
            "[1 2 3 4]\n",
            "[1. 2. 3. 4.]\n",
            "[1 2 3 4]\n"
          ]
        }
      ]
    },
    {
      "cell_type": "code",
      "source": [
        "x = np.array([1, 2, 3, 4])\n",
        "new_type = x.astype(np.float64)\n",
        "print(\"Original array:\", x)\n",
        "print(\"Original data type:\", x.dtype)\n",
        "print(\"New array:\", new_type)\n",
        "print(\"New data type:\", new_type.dtype)"
      ],
      "metadata": {
        "colab": {
          "base_uri": "https://localhost:8080/"
        },
        "id": "WHoTH6TGZOxU",
        "outputId": "db20c516-0a96-4475-fec0-5624547169c6"
      },
      "execution_count": 42,
      "outputs": [
        {
          "output_type": "stream",
          "name": "stdout",
          "text": [
            "Original array: [1 2 3 4]\n",
            "Original data type: int64\n",
            "New array: [1. 2. 3. 4.]\n",
            "New data type: float64\n"
          ]
        }
      ]
    },
    {
      "cell_type": "code",
      "source": [],
      "metadata": {
        "id": "i25VPYePayMO"
      },
      "execution_count": null,
      "outputs": []
    }
  ]
}